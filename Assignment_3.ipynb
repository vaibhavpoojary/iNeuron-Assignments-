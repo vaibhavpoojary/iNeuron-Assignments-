{
 "cells": [
  {
   "cell_type": "raw",
   "id": "f5d82c9e",
   "metadata": {},
   "source": [
    "1. Why are functions advantageous to have in your programs?\n",
    "Functions reduce the need for duplicate code. This makes programs shorter, easier to read, and easier to update. A function call is what moves the program execution into the function, and the function call evaluates to the function's return value.\n",
    "\n",
    "2. When does the code in a function run: when it's specified or when it's called?\n",
    "The code inside a function is executed when the function is invoked. It is common to use the term \"call a function\" instead of \"invoke a function\". It is also common to say \"call upon a function\", \"start a function\", or \"execute a function\".\n",
    "\n",
    "3. What statement creates a function?\n",
    "A statement that executes a function. It consists of the name of the function followed by a list of arguments enclosed in parentheses. Using the output from one function call as the input to another. A statement that creates a new function, specifying its name, parameters, and the statements it executes.\n",
    "\n",
    "4. What is the difference between a function and a function call?\n",
    "Function Call : A function call means invoking or calling that function. Unless a function is called there is no use of that function.\n",
    "Function : A function is procedure to achieve a particular result while function call is using this function to achive that task.\n",
    "\n",
    "5. How many global scopes are there in a Python program? How many local scopes?\n",
    "There's only one global Python scope per program execution. This scope remains in existence until the program terminates and all its names are forgotten. Otherwise, the next time you were to run the program, the names would remember their values from the previous run.\n",
    "Three local variables in python are local (L), then the global (G), and then the built-in (B).\n",
    "\n",
    "6. What happens to variables in a local scope when the function call returns?\n",
    "When the execution of the function terminates (returns), the local variables are destroyed. Codelens helps you visualize this because the local variables disappear after the function returns.\n",
    "\n",
    "7. What is the concept of a return value? Is it possible to have a return value in an expression?\n",
    "Return Value : A return statement is used to end the execution of the function call and “returns” the result (value of the expression following the return keyword) to the caller. The statements after the return statements are not executed. Return can not be used outside the function.\n",
    "Since return_32() returns a numeric value, you can use that value in a math expression or any other kind of expression in which the value has a logical or coherent meaning. This is how a caller code can take advantage of a function's return value.\n",
    "\n",
    "8. If a function does not have a return statement, what is the return value of a call to that function?\n",
    "If expression is omitted, the return value of the function is undefined. If no return statement appears in a function definition, control automatically returns to the calling function after the last statement of the called function is executed. In this case, the return value of the called function is undefined.\n",
    "\n",
    "9. How do you make a function variable refer to the global variable?\n",
    "By using the global keyword we can declare the global variables.\n",
    "\n",
    "10. What is the data type of None?\n",
    "The None keyword is used to define a null value, or no value at all. None is not the same as 0, False, or an empty string. None is a data type of its own (NoneType) and only None can be None.\n",
    "\n",
    "11. What does the sentence import areallyourpetsnamederic do?\n",
    "imports a module named areallyourpetsnamederic.\n",
    "\n",
    "12. If you had a bacon() feature in a spam module, what would you call it after importing spam?\n",
    "This function can be called with spam.bacon()\n",
    "\n",
    "13. What can you do to save a programme from crashing if it encounters an error?\n",
    "If an error occurs in a program, we don't want the program to unexpectedly crash on the user. Instead, error handling can be used to notify the user of why the error occurred and gracefully exit the process that caused the error.\n",
    "\n",
    "14. What is the purpose of the try clause? What is the purpose of the except clause?\n",
    "except statement catches an exception. It is used to test code for an error which is written in the “try” statement. If an error is encountered, the contents of the “except” block are run."
   ]
  }
 ],
 "metadata": {
  "kernelspec": {
   "display_name": "Python 3 (ipykernel)",
   "language": "python",
   "name": "python3"
  },
  "language_info": {
   "codemirror_mode": {
    "name": "ipython",
    "version": 3
   },
   "file_extension": ".py",
   "mimetype": "text/x-python",
   "name": "python",
   "nbconvert_exporter": "python",
   "pygments_lexer": "ipython3",
   "version": "3.8.12"
  }
 },
 "nbformat": 4,
 "nbformat_minor": 5
}
