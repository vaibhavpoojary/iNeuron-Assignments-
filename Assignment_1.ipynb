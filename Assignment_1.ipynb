{
 "cells": [
  {
   "cell_type": "raw",
   "id": "167ad2f7",
   "metadata": {},
   "source": [
    "1. In the below elements which of them are values or an expression? eg:- values can be\n",
    "integer or string and expressions will be mathematical operators.\n",
    "\n",
    "* - Mathematical operator\n",
    "\n",
    "'hello' - string \n",
    "\n",
    "-87.8 - Float value\n",
    "\n",
    "- - Mathematical operator\n",
    "\n",
    "/ - Mathematical operator\n",
    "\n",
    "+ - Mathematical operator\n",
    "\n",
    "6 - Integer value\n",
    "\n",
    "\n",
    "2. What is the difference between string and variable?\n",
    "\n",
    "String : In Python, string is an immutable sequence data type. It is the sequence of Unicode characters wrapped inside single, double, or triple quotes.\n",
    "If a string literal required to embed double quotes as part of a string then, it should be put in single quotes.\n",
    "\n",
    "Variable : A Python variable is a reserved memory location to store values. In other words, a variable in a python program gives data to the computer for processing. Every value in Python has a datatype. Different data types in Python are Numbers, List, Tuple, Strings, Dictionary, etc.\n",
    "\n",
    "3. Describe three different data types.\n",
    "\n",
    "Different types of python data types\n",
    "Binary Types: memoryview, bytearray, bytes.\n",
    "Boolean Type: bool.\n",
    "Set Types: frozenset, set.\n",
    "Mapping Type: dict.\n",
    "Sequence Types: range, tuple, list.\n",
    "Numeric Types: complex, float, int.\n",
    "Text Type: str.\n",
    "\n",
    "4. What is an expression made up of? What do all expressions do?\n",
    "\n",
    "An expression is a combination of values, variables, operators, and calls to functions. Expressions need to be evaluated. If you ask Python to print an expression, the interpreter evaluates the expression and displays the result.\n",
    "\n",
    "5. This assignment statements, like spam = 10. What is the difference between an\n",
    "expression and a statement?\n",
    "A statement does something. Statements represent an action or command e.g print statements, assignment statements.\n",
    "Expression is a combination of variables, operations and values that yields a result value.\n",
    "\n",
    "6. After running the following code, what does the variable bacon contain?\n",
    "bacon = 22\n",
    "bacon + 1\n",
    "\n",
    "output= 23\n",
    "\n",
    "7. What should the values of the following two terms be?\n",
    "'spam'+'spamspam'\n",
    "'spam'*3\n",
    "\n",
    "output= 'spamspamspam'\n",
    "\n",
    "8. Why is eggs a valid variable name while 100 is invalid?\n",
    "\n",
    "Egg is a string and the value 100 is a integer value, we can not consider the integer value as a variable name. Hence the name Egg is a valid variable name.\n",
    "\n",
    "9. What three functions can be used to get the integer, floating-point number, or string\n",
    "version of a value?\n",
    "\n",
    "Integer = int()\n",
    "Float = float(), double()\n",
    "String = str()\n",
    "\n",
    "10. Why does this expression cause an error? How can you fix it?\n",
    "'I have eaten '+19+'burritos.'\n",
    "\n",
    "Valid syntax is = \"i have eaten \"+\"19\"+\" burritos.\"\n",
    "\n",
    "Reason : String can not be concatinated with the the integer value, hence it will throw an error. By using the the \" \" we can assign integer 19 as string and we can get the desired output. The \" \" will convert the integer to string.\n",
    "Example : type(\"19\") \n",
    "output = str "
   ]
  },
  {
   "cell_type": "code",
   "execution_count": 2,
   "id": "c2482f41",
   "metadata": {},
   "outputs": [
    {
     "data": {
      "text/plain": [
       "23"
      ]
     },
     "execution_count": 2,
     "metadata": {},
     "output_type": "execute_result"
    }
   ],
   "source": [
    "bacon = 22\n",
    "bacon + 1"
   ]
  },
  {
   "cell_type": "code",
   "execution_count": 3,
   "id": "2d8bc68d",
   "metadata": {},
   "outputs": [
    {
     "data": {
      "text/plain": [
       "'spamspamspam'"
      ]
     },
     "execution_count": 3,
     "metadata": {},
     "output_type": "execute_result"
    }
   ],
   "source": [
    "'spam'+'spamspam'"
   ]
  },
  {
   "cell_type": "code",
   "execution_count": 4,
   "id": "9ebdd6bb",
   "metadata": {},
   "outputs": [
    {
     "data": {
      "text/plain": [
       "'spamspamspam'"
      ]
     },
     "execution_count": 4,
     "metadata": {},
     "output_type": "execute_result"
    }
   ],
   "source": [
    "'spam'*3"
   ]
  },
  {
   "cell_type": "code",
   "execution_count": 5,
   "id": "64508895",
   "metadata": {},
   "outputs": [
    {
     "ename": "TypeError",
     "evalue": "can only concatenate str (not \"int\") to str",
     "output_type": "error",
     "traceback": [
      "\u001b[1;31m---------------------------------------------------------------------------\u001b[0m",
      "\u001b[1;31mTypeError\u001b[0m                                 Traceback (most recent call last)",
      "\u001b[1;32mC:\\Users\\THISPC~1\\AppData\\Local\\Temp/ipykernel_4896/2526787307.py\u001b[0m in \u001b[0;36m<module>\u001b[1;34m\u001b[0m\n\u001b[1;32m----> 1\u001b[1;33m \u001b[1;34m'I have eaten '\u001b[0m\u001b[1;33m+\u001b[0m\u001b[1;36m19\u001b[0m\u001b[1;33m+\u001b[0m\u001b[1;34m'burritos.'\u001b[0m\u001b[1;33m\u001b[0m\u001b[1;33m\u001b[0m\u001b[0m\n\u001b[0m",
      "\u001b[1;31mTypeError\u001b[0m: can only concatenate str (not \"int\") to str"
     ]
    }
   ],
   "source": [
    "'I have eaten '+19+'burritos.'"
   ]
  },
  {
   "cell_type": "code",
   "execution_count": 11,
   "id": "769a48be",
   "metadata": {},
   "outputs": [
    {
     "data": {
      "text/plain": [
       "'i have eaten 19 burritos.'"
      ]
     },
     "execution_count": 11,
     "metadata": {},
     "output_type": "execute_result"
    }
   ],
   "source": [
    "\"i have eaten \"+\"19\"+\" burritos.\""
   ]
  },
  {
   "cell_type": "code",
   "execution_count": 12,
   "id": "b7433f04",
   "metadata": {},
   "outputs": [
    {
     "data": {
      "text/plain": [
       "str"
      ]
     },
     "execution_count": 12,
     "metadata": {},
     "output_type": "execute_result"
    }
   ],
   "source": [
    "type(\"19\")"
   ]
  },
  {
   "cell_type": "code",
   "execution_count": null,
   "id": "c4bd8469",
   "metadata": {},
   "outputs": [],
   "source": []
  }
 ],
 "metadata": {
  "kernelspec": {
   "display_name": "Python 3 (ipykernel)",
   "language": "python",
   "name": "python3"
  },
  "language_info": {
   "codemirror_mode": {
    "name": "ipython",
    "version": 3
   },
   "file_extension": ".py",
   "mimetype": "text/x-python",
   "name": "python",
   "nbconvert_exporter": "python",
   "pygments_lexer": "ipython3",
   "version": "3.8.12"
  }
 },
 "nbformat": 4,
 "nbformat_minor": 5
}
